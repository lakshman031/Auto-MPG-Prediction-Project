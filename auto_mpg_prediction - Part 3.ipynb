{
 "cells": [
  {
   "cell_type": "markdown",
   "metadata": {},
   "source": [
    "## Predicting Fuel Efficiency of Vehicles - Part 3\n",
    "1. Selecting and Training Models\n",
    "2. Select and Train a few Algorithms(Linear Regression, Decision Tree, RandomForest)\n",
    "3. Evaluation using Mean Squared Error\n",
    "4. Model Evaluation using Cross Validation\n",
    "5. Hyperparameter Tuning using GridSearchCV\n",
    "6. Check Feature Importance\n",
    "7. Evaluate the Final System on test data\n",
    "8. Saving the Model"
   ]
  },
  {
   "cell_type": "code",
   "execution_count": 1,
   "metadata": {},
   "outputs": [],
   "source": [
    "import numpy as np\n",
    "import pandas as pd\n",
    "import matplotlib.pyplot as plt\n",
    "import seaborn as sns\n",
    "\n",
    "from sklearn.model_selection import StratifiedShuffleSplit\n",
    "from sklearn.preprocessing import StandardScaler, OneHotEncoder\n",
    "from sklearn.impute import SimpleImputer\n",
    "from sklearn.base import BaseEstimator, TransformerMixin\n",
    "from sklearn.compose import ColumnTransformer\n",
    "from sklearn.pipeline import Pipeline"
   ]
  },
  {
   "cell_type": "code",
   "execution_count": 2,
   "metadata": {},
   "outputs": [],
   "source": [
    "import warnings\n",
    "\n",
    "warnings.filterwarnings('ignore')"
   ]
  },
  {
   "cell_type": "code",
   "execution_count": 3,
   "metadata": {},
   "outputs": [],
   "source": [
    "# reading the .data file using pandas\n",
    "\n",
    "cols = ['MPG','Cylinders','Displacement','Horsepower','Weight',\n",
    "                'Acceleration', 'Model Year', 'Origin']\n",
    "\n",
    "df = pd.read_csv('./auto-mpg.data', names = cols, comment = '\\t', sep = \" \", na_values = \"?\", skipinitialspace = True)\n",
    "\n",
    "data = df.copy()"
   ]
  },
  {
   "cell_type": "code",
   "execution_count": 4,
   "metadata": {},
   "outputs": [
    {
     "data": {
      "text/html": [
       "<div>\n",
       "<style scoped>\n",
       "    .dataframe tbody tr th:only-of-type {\n",
       "        vertical-align: middle;\n",
       "    }\n",
       "\n",
       "    .dataframe tbody tr th {\n",
       "        vertical-align: top;\n",
       "    }\n",
       "\n",
       "    .dataframe thead th {\n",
       "        text-align: right;\n",
       "    }\n",
       "</style>\n",
       "<table border=\"1\" class=\"dataframe\">\n",
       "  <thead>\n",
       "    <tr style=\"text-align: right;\">\n",
       "      <th></th>\n",
       "      <th>MPG</th>\n",
       "      <th>Cylinders</th>\n",
       "      <th>Displacement</th>\n",
       "      <th>Horsepower</th>\n",
       "      <th>Weight</th>\n",
       "      <th>Acceleration</th>\n",
       "      <th>Model Year</th>\n",
       "      <th>Origin</th>\n",
       "    </tr>\n",
       "  </thead>\n",
       "  <tbody>\n",
       "    <tr>\n",
       "      <th>0</th>\n",
       "      <td>18.0</td>\n",
       "      <td>8</td>\n",
       "      <td>307.0</td>\n",
       "      <td>130.0</td>\n",
       "      <td>3504.0</td>\n",
       "      <td>12.0</td>\n",
       "      <td>70</td>\n",
       "      <td>1</td>\n",
       "    </tr>\n",
       "    <tr>\n",
       "      <th>1</th>\n",
       "      <td>15.0</td>\n",
       "      <td>8</td>\n",
       "      <td>350.0</td>\n",
       "      <td>165.0</td>\n",
       "      <td>3693.0</td>\n",
       "      <td>11.5</td>\n",
       "      <td>70</td>\n",
       "      <td>1</td>\n",
       "    </tr>\n",
       "    <tr>\n",
       "      <th>2</th>\n",
       "      <td>18.0</td>\n",
       "      <td>8</td>\n",
       "      <td>318.0</td>\n",
       "      <td>150.0</td>\n",
       "      <td>3436.0</td>\n",
       "      <td>11.0</td>\n",
       "      <td>70</td>\n",
       "      <td>1</td>\n",
       "    </tr>\n",
       "    <tr>\n",
       "      <th>3</th>\n",
       "      <td>16.0</td>\n",
       "      <td>8</td>\n",
       "      <td>304.0</td>\n",
       "      <td>150.0</td>\n",
       "      <td>3433.0</td>\n",
       "      <td>12.0</td>\n",
       "      <td>70</td>\n",
       "      <td>1</td>\n",
       "    </tr>\n",
       "    <tr>\n",
       "      <th>4</th>\n",
       "      <td>17.0</td>\n",
       "      <td>8</td>\n",
       "      <td>302.0</td>\n",
       "      <td>140.0</td>\n",
       "      <td>3449.0</td>\n",
       "      <td>10.5</td>\n",
       "      <td>70</td>\n",
       "      <td>1</td>\n",
       "    </tr>\n",
       "  </tbody>\n",
       "</table>\n",
       "</div>"
      ],
      "text/plain": [
       "    MPG  Cylinders  Displacement  Horsepower  Weight  Acceleration  \\\n",
       "0  18.0          8         307.0       130.0  3504.0          12.0   \n",
       "1  15.0          8         350.0       165.0  3693.0          11.5   \n",
       "2  18.0          8         318.0       150.0  3436.0          11.0   \n",
       "3  16.0          8         304.0       150.0  3433.0          12.0   \n",
       "4  17.0          8         302.0       140.0  3449.0          10.5   \n",
       "\n",
       "   Model Year  Origin  \n",
       "0          70       1  \n",
       "1          70       1  \n",
       "2          70       1  \n",
       "3          70       1  \n",
       "4          70       1  "
      ]
     },
     "execution_count": 4,
     "metadata": {},
     "output_type": "execute_result"
    }
   ],
   "source": [
    "data.head()"
   ]
  },
  {
   "cell_type": "code",
   "execution_count": 5,
   "metadata": {},
   "outputs": [],
   "source": [
    "split = StratifiedShuffleSplit(n_splits = 1, random_state = 42, test_size = 0.2)\n",
    "\n",
    "for train_index, test_index in split.split(data, data['Cylinders']):\n",
    "    strat_train_set = data.loc[train_index]\n",
    "    strat_test_set = data.loc[test_index]"
   ]
  },
  {
   "cell_type": "code",
   "execution_count": 6,
   "metadata": {},
   "outputs": [
    {
     "data": {
      "text/html": [
       "<div>\n",
       "<style scoped>\n",
       "    .dataframe tbody tr th:only-of-type {\n",
       "        vertical-align: middle;\n",
       "    }\n",
       "\n",
       "    .dataframe tbody tr th {\n",
       "        vertical-align: top;\n",
       "    }\n",
       "\n",
       "    .dataframe thead th {\n",
       "        text-align: right;\n",
       "    }\n",
       "</style>\n",
       "<table border=\"1\" class=\"dataframe\">\n",
       "  <thead>\n",
       "    <tr style=\"text-align: right;\">\n",
       "      <th></th>\n",
       "      <th>Cylinders</th>\n",
       "      <th>Displacement</th>\n",
       "      <th>Horsepower</th>\n",
       "      <th>Weight</th>\n",
       "      <th>Acceleration</th>\n",
       "      <th>Model Year</th>\n",
       "      <th>Origin</th>\n",
       "    </tr>\n",
       "  </thead>\n",
       "  <tbody>\n",
       "    <tr>\n",
       "      <th>145</th>\n",
       "      <td>4</td>\n",
       "      <td>83.0</td>\n",
       "      <td>61.0</td>\n",
       "      <td>2003.0</td>\n",
       "      <td>19.0</td>\n",
       "      <td>74</td>\n",
       "      <td>3</td>\n",
       "    </tr>\n",
       "    <tr>\n",
       "      <th>151</th>\n",
       "      <td>4</td>\n",
       "      <td>79.0</td>\n",
       "      <td>67.0</td>\n",
       "      <td>2000.0</td>\n",
       "      <td>16.0</td>\n",
       "      <td>74</td>\n",
       "      <td>2</td>\n",
       "    </tr>\n",
       "    <tr>\n",
       "      <th>388</th>\n",
       "      <td>4</td>\n",
       "      <td>156.0</td>\n",
       "      <td>92.0</td>\n",
       "      <td>2585.0</td>\n",
       "      <td>14.5</td>\n",
       "      <td>82</td>\n",
       "      <td>1</td>\n",
       "    </tr>\n",
       "    <tr>\n",
       "      <th>48</th>\n",
       "      <td>6</td>\n",
       "      <td>250.0</td>\n",
       "      <td>88.0</td>\n",
       "      <td>3139.0</td>\n",
       "      <td>14.5</td>\n",
       "      <td>71</td>\n",
       "      <td>1</td>\n",
       "    </tr>\n",
       "    <tr>\n",
       "      <th>114</th>\n",
       "      <td>4</td>\n",
       "      <td>98.0</td>\n",
       "      <td>90.0</td>\n",
       "      <td>2265.0</td>\n",
       "      <td>15.5</td>\n",
       "      <td>73</td>\n",
       "      <td>2</td>\n",
       "    </tr>\n",
       "  </tbody>\n",
       "</table>\n",
       "</div>"
      ],
      "text/plain": [
       "     Cylinders  Displacement  Horsepower  Weight  Acceleration  Model Year  \\\n",
       "145          4          83.0        61.0  2003.0          19.0          74   \n",
       "151          4          79.0        67.0  2000.0          16.0          74   \n",
       "388          4         156.0        92.0  2585.0          14.5          82   \n",
       "48           6         250.0        88.0  3139.0          14.5          71   \n",
       "114          4          98.0        90.0  2265.0          15.5          73   \n",
       "\n",
       "     Origin  \n",
       "145       3  \n",
       "151       2  \n",
       "388       1  \n",
       "48        1  \n",
       "114       2  "
      ]
     },
     "execution_count": 6,
     "metadata": {},
     "output_type": "execute_result"
    }
   ],
   "source": [
    "#segregating the features\n",
    "\n",
    "data = strat_train_set.drop(['MPG'], axis = 1)\n",
    "data_labels = strat_train_set['MPG'].copy()\n",
    "\n",
    "data.head()"
   ]
  },
  {
   "cell_type": "code",
   "execution_count": 7,
   "metadata": {},
   "outputs": [
    {
     "data": {
      "text/plain": [
       "145    32.0\n",
       "151    31.0\n",
       "388    26.0\n",
       "48     18.0\n",
       "114    26.0\n",
       "Name: MPG, dtype: float64"
      ]
     },
     "execution_count": 7,
     "metadata": {},
     "output_type": "execute_result"
    }
   ],
   "source": [
    "data_labels.head()"
   ]
  },
  {
   "cell_type": "code",
   "execution_count": 8,
   "metadata": {},
   "outputs": [],
   "source": [
    "#preprocessing origin column in data\n",
    "\n",
    "def preprocess_origin_col(df):\n",
    "    df['Origin'] = df['Origin'].map({1 : 'India', 2 : 'USA', 3 : 'Germany'})\n",
    "    return df"
   ]
  },
  {
   "cell_type": "code",
   "execution_count": 9,
   "metadata": {},
   "outputs": [],
   "source": [
    "##creating custom attribute adder class\n",
    "acc_ix, hpower_ix, cyl_ix = 4,2, 0\n",
    "\n",
    "class CustomAttrAdder(BaseEstimator, TransformerMixin):\n",
    "    def __init__(self, acc_on_power=True): # no *args or **kargs\n",
    "        self.acc_on_power = acc_on_power\n",
    "    def fit(self, X, y=None):\n",
    "        return self  # nothing else to do\n",
    "    def transform(self, X):\n",
    "        acc_on_cyl = X[:, acc_ix] / X[:, cyl_ix]\n",
    "        if self.acc_on_power:\n",
    "            acc_on_power = X[:, acc_ix] / X[:, hpower_ix]\n",
    "            return np.c_[X, acc_on_power, acc_on_cyl]\n",
    "        \n",
    "        return np.c_[X, acc_on_cyl]"
   ]
  },
  {
   "cell_type": "code",
   "execution_count": 10,
   "metadata": {},
   "outputs": [],
   "source": [
    "def num_pipeline_transformer(data):\n",
    "    ''''\n",
    "    Function to process numerical transformations\n",
    "    Argument:\n",
    "        data: original dataframe \n",
    "    Returns:\n",
    "        num_attrs: numerical dataframe\n",
    "        num_pipeline: numerical pipeline object\n",
    "        \n",
    "    '''\n",
    "    numerics = ['float64', 'int64']\n",
    "    num_attrs = data.select_dtypes(include = numerics)\n",
    "    num_pipeline = Pipeline([\n",
    "        ('imputer',SimpleImputer(strategy = 'median')),\n",
    "        ('attrs_adder', CustomAttrAdder()),\n",
    "        ('std_scaler', StandardScaler()),     \n",
    "    ])\n",
    "    \n",
    "    return num_attrs, num_pipeline\n",
    "\n",
    "def pipeline_transformer(data):\n",
    "    ''''\n",
    "    Complete transformation pipeline for both\n",
    "    nuerical and categorical data.\n",
    "    \n",
    "    Argument:\n",
    "        data: original dataframe \n",
    "    Returns:\n",
    "        prepared_data: transformed data, ready to use\n",
    "    '''\n",
    "    cat_attrs = ['Origin']\n",
    "    num_attrs, num_pipeline = num_pipeline_transformer(data)\n",
    "    full_pipeline = ColumnTransformer([\n",
    "        (\"num\", num_pipeline, list(num_attrs)),\n",
    "        (\"cat\", OneHotEncoder(), cat_attrs),\n",
    "        ])\n",
    "    prepared_data = full_pipeline.fit_transform(data)\n",
    "    return prepared_data"
   ]
  },
  {
   "cell_type": "markdown",
   "metadata": {},
   "source": [
    "## From raw data to processed data in 2 steps"
   ]
  },
  {
   "cell_type": "code",
   "execution_count": 11,
   "metadata": {},
   "outputs": [
    {
     "data": {
      "text/plain": [
       "array([-0.85657842, -1.07804475, -1.15192977, -1.17220298,  1.21586943,\n",
       "       -0.54436373,  1.70952741,  1.29565517,  1.        ,  0.        ,\n",
       "        0.        ])"
      ]
     },
     "execution_count": 11,
     "metadata": {},
     "output_type": "execute_result"
    }
   ],
   "source": [
    "preprocessed_df = preprocess_origin_col(data)\n",
    "prepared_data = pipeline_transformer(preprocessed_df)\n",
    "prepared_data[0]"
   ]
  },
  {
   "cell_type": "markdown",
   "metadata": {},
   "source": [
    "# Selecting and Training Models\n",
    "\n",
    "1. Linear Regression\n",
    "2. Decision Tree\n",
    "3. Random Forest\n",
    "4. SVM regressor"
   ]
  },
  {
   "cell_type": "code",
   "execution_count": 12,
   "metadata": {},
   "outputs": [
    {
     "data": {
      "text/plain": [
       "LinearRegression()"
      ]
     },
     "execution_count": 12,
     "metadata": {},
     "output_type": "execute_result"
    }
   ],
   "source": [
    "from sklearn.linear_model import LinearRegression\n",
    "\n",
    "lin_reg = LinearRegression()\n",
    "lin_reg.fit(prepared_data, data_labels)"
   ]
  },
  {
   "cell_type": "code",
   "execution_count": 13,
   "metadata": {},
   "outputs": [
    {
     "name": "stdout",
     "output_type": "stream",
     "text": [
      "Prediction of sample data [29.08069379 27.78336755 26.08031176 12.70419279 22.23454159]\n"
     ]
    }
   ],
   "source": [
    "##testing the predictions with the \n",
    "\n",
    "sample_data = data.iloc[:5]\n",
    "sample_labels = data_labels.iloc[:5]\n",
    "\n",
    "sample_data_prepared = pipeline_transformer(sample_data)\n",
    "print(\"Prediction of sample data\", lin_reg.predict(sample_data_prepared))"
   ]
  },
  {
   "cell_type": "code",
   "execution_count": 14,
   "metadata": {},
   "outputs": [
    {
     "name": "stdout",
     "output_type": "stream",
     "text": [
      "Actual Labels of Samples [32.0, 31.0, 26.0, 18.0, 26.0]\n"
     ]
    }
   ],
   "source": [
    "print(\"Actual Labels of Samples\", list(sample_labels))"
   ]
  },
  {
   "cell_type": "markdown",
   "metadata": {},
   "source": [
    "## Mean squared Error"
   ]
  },
  {
   "cell_type": "code",
   "execution_count": 15,
   "metadata": {},
   "outputs": [
    {
     "data": {
      "text/plain": [
       "2.9590402225760863"
      ]
     },
     "execution_count": 15,
     "metadata": {},
     "output_type": "execute_result"
    }
   ],
   "source": [
    "from sklearn.metrics import mean_squared_error\n",
    "\n",
    "mpg_predictions = lin_reg.predict(prepared_data)\n",
    "lin_mse = mean_squared_error(data_labels, mpg_predictions)\n",
    "lin_rmse = np.sqrt(lin_mse)\n",
    "lin_rmse"
   ]
  },
  {
   "cell_type": "markdown",
   "metadata": {},
   "source": [
    "## Decision Tree"
   ]
  },
  {
   "cell_type": "code",
   "execution_count": 16,
   "metadata": {},
   "outputs": [
    {
     "data": {
      "text/plain": [
       "DecisionTreeRegressor()"
      ]
     },
     "execution_count": 16,
     "metadata": {},
     "output_type": "execute_result"
    }
   ],
   "source": [
    "from sklearn.tree import DecisionTreeRegressor\n",
    "\n",
    "tree_reg = DecisionTreeRegressor()\n",
    "tree_reg.fit(prepared_data, data_labels)"
   ]
  },
  {
   "cell_type": "code",
   "execution_count": 17,
   "metadata": {},
   "outputs": [
    {
     "data": {
      "text/plain": [
       "0.0"
      ]
     },
     "execution_count": 17,
     "metadata": {},
     "output_type": "execute_result"
    }
   ],
   "source": [
    "mpg_predictions = tree_reg.predict(prepared_data)\n",
    "tree_mse = mean_squared_error(data_labels, mpg_predictions)\n",
    "tree_rmse = np.sqrt(tree_mse)\n",
    "tree_mse"
   ]
  },
  {
   "cell_type": "code",
   "execution_count": 18,
   "metadata": {},
   "outputs": [
    {
     "data": {
      "text/plain": [
       "3.277620949296741"
      ]
     },
     "execution_count": 18,
     "metadata": {},
     "output_type": "execute_result"
    }
   ],
   "source": [
    "## Model Evaluation using cross Validation\n",
    "from sklearn.model_selection import cross_val_score\n",
    "\n",
    "scores = cross_val_score(tree_reg, \n",
    "                          prepared_data,\n",
    "                          data_labels,\n",
    "                          cv = 10,\n",
    "                          scoring = \"neg_mean_squared_error\")\n",
    "\n",
    "tree_reg_rmse_scores = np.sqrt(-scores)\n",
    "tree_reg_rmse_scores.mean()"
   ]
  },
  {
   "cell_type": "code",
   "execution_count": 19,
   "metadata": {},
   "outputs": [
    {
     "data": {
      "text/plain": [
       "3.0757081793709324"
      ]
     },
     "execution_count": 19,
     "metadata": {},
     "output_type": "execute_result"
    }
   ],
   "source": [
    "scores = cross_val_score(lin_reg,\n",
    "                        prepared_data,\n",
    "                        data_labels,\n",
    "                        cv = 10,\n",
    "                        scoring = \"neg_mean_squared_error\")\n",
    "lin_reg_rmse_scores = np.sqrt(-scores)\n",
    "lin_reg_rmse_scores.mean()"
   ]
  },
  {
   "cell_type": "markdown",
   "metadata": {},
   "source": [
    "## Random Forest Model"
   ]
  },
  {
   "cell_type": "code",
   "execution_count": 20,
   "metadata": {},
   "outputs": [
    {
     "data": {
      "text/plain": [
       "3.0757081793709324"
      ]
     },
     "execution_count": 20,
     "metadata": {},
     "output_type": "execute_result"
    }
   ],
   "source": [
    "from sklearn.ensemble import RandomForestRegressor\n",
    "\n",
    "forest_reg = RandomForestRegressor()\n",
    "forest_reg.fit(prepared_data, data_labels)\n",
    "\n",
    "forest_reg_cv_scores = cross_val_score(forest_reg,\n",
    "                        prepared_data,\n",
    "                        data_labels,\n",
    "                        cv = 10,\n",
    "                        scoring = \"neg_mean_squared_error\")\n",
    "\n",
    "forest_reg_rmse_scores = np.sqrt(-scores)\n",
    "forest_reg_rmse_scores.mean()"
   ]
  },
  {
   "cell_type": "markdown",
   "metadata": {},
   "source": [
    "## Support Vector Machine"
   ]
  },
  {
   "cell_type": "code",
   "execution_count": 21,
   "metadata": {},
   "outputs": [
    {
     "data": {
      "text/plain": [
       "3.08659162080283"
      ]
     },
     "execution_count": 21,
     "metadata": {},
     "output_type": "execute_result"
    }
   ],
   "source": [
    "from sklearn.svm import SVR\n",
    "\n",
    "svr_reg = SVR(kernel = 'linear')\n",
    "svr_reg.fit(prepared_data, data_labels)\n",
    "\n",
    "svr_cv_scores = cross_val_score(svr_reg,\n",
    "                               prepared_data,\n",
    "                               data_labels,\n",
    "                               cv = 10,\n",
    "                               scoring = \"neg_mean_squared_error\")\n",
    "svr_rmse_scores = np.sqrt(-svr_cv_scores)\n",
    "svr_rmse_scores.mean()"
   ]
  },
  {
   "cell_type": "markdown",
   "metadata": {},
   "source": [
    "## Hyper Parameter tuning using Grid Search CV"
   ]
  },
  {
   "cell_type": "code",
   "execution_count": 22,
   "metadata": {},
   "outputs": [
    {
     "data": {
      "text/plain": [
       "GridSearchCV(cv=10, estimator=RandomForestRegressor(),\n",
       "             param_grid=[{'max_features': [2, 4, 6, 8],\n",
       "                          'n_estimators': [3, 10, 30]},\n",
       "                         {'bootstrap': [False], 'max_features': [2, 3, 4],\n",
       "                          'n_estimators': [3, 10]}],\n",
       "             return_train_score=True, scoring='neg_mean_squared_error')"
      ]
     },
     "execution_count": 22,
     "metadata": {},
     "output_type": "execute_result"
    }
   ],
   "source": [
    "from sklearn.model_selection import GridSearchCV\n",
    "\n",
    "param_grid = [{'n_estimators' : [3, 10, 30],'max_features' : [2, 4, 6, 8]},\n",
    "             {'bootstrap' : [False], 'n_estimators' : [3, 10], 'max_features' : [2, 3, 4]},]\n",
    "\n",
    "forest_reg = RandomForestRegressor()\n",
    "\n",
    "grid_search = GridSearchCV(forest_reg, param_grid,\n",
    "                          scoring = \"neg_mean_squared_error\",\n",
    "                          cv = 10,\n",
    "                          return_train_score = True)\n",
    "\n",
    "grid_search.fit(prepared_data, data_labels)"
   ]
  },
  {
   "cell_type": "code",
   "execution_count": 23,
   "metadata": {},
   "outputs": [
    {
     "data": {
      "text/plain": [
       "RandomForestRegressor(max_features=8, n_estimators=30)"
      ]
     },
     "execution_count": 23,
     "metadata": {},
     "output_type": "execute_result"
    }
   ],
   "source": [
    "grid_search.best_estimator_"
   ]
  },
  {
   "cell_type": "code",
   "execution_count": 24,
   "metadata": {},
   "outputs": [
    {
     "data": {
      "text/plain": [
       "{'max_features': 8, 'n_estimators': 30}"
      ]
     },
     "execution_count": 24,
     "metadata": {},
     "output_type": "execute_result"
    }
   ],
   "source": [
    "grid_search.best_params_"
   ]
  },
  {
   "cell_type": "code",
   "execution_count": 25,
   "metadata": {},
   "outputs": [
    {
     "data": {
      "text/plain": [
       "{'mean_fit_time': array([0.00765219, 0.02276103, 0.06908264, 0.00932422, 0.02626801,\n",
       "        0.07698615, 0.01021836, 0.02904472, 0.08139844, 0.00781066,\n",
       "        0.032634  , 0.08818383, 0.00850298, 0.02231731, 0.00718646,\n",
       "        0.02190194, 0.01019173, 0.02816811]),\n",
       " 'std_fit_time': array([0.00514976, 0.00892527, 0.00613852, 0.00740249, 0.0067179 ,\n",
       "        0.00509047, 0.00705253, 0.00495654, 0.00763141, 0.00781067,\n",
       "        0.00320434, 0.00554577, 0.00792117, 0.00361774, 0.00423971,\n",
       "        0.00475458, 0.00477045, 0.00621326]),\n",
       " 'mean_score_time': array([1.77233219e-03, 1.66521072e-03, 2.60105133e-03, 8.13603401e-04,\n",
       "        0.00000000e+00, 2.36229897e-03, 0.00000000e+00, 1.56247616e-03,\n",
       "        3.16557884e-03, 1.56164169e-03, 2.21946239e-03, 3.81436348e-03,\n",
       "        1.80914402e-03, 1.59807205e-03, 2.36902237e-03, 3.79126072e-03,\n",
       "        8.03089142e-04, 6.63757324e-05]),\n",
       " 'std_score_time': array([0.00316331, 0.00465706, 0.00400693, 0.00244081, 0.        ,\n",
       "        0.00502277, 0.        , 0.00468743, 0.0052193 , 0.00468493,\n",
       "        0.00342711, 0.00520107, 0.00467826, 0.00319615, 0.00503802,\n",
       "        0.00517897, 0.00240927, 0.00019913]),\n",
       " 'param_max_features': masked_array(data=[2, 2, 2, 4, 4, 4, 6, 6, 6, 8, 8, 8, 2, 2, 3, 3, 4, 4],\n",
       "              mask=[False, False, False, False, False, False, False, False,\n",
       "                    False, False, False, False, False, False, False, False,\n",
       "                    False, False],\n",
       "        fill_value='?',\n",
       "             dtype=object),\n",
       " 'param_n_estimators': masked_array(data=[3, 10, 30, 3, 10, 30, 3, 10, 30, 3, 10, 30, 3, 10, 3,\n",
       "                    10, 3, 10],\n",
       "              mask=[False, False, False, False, False, False, False, False,\n",
       "                    False, False, False, False, False, False, False, False,\n",
       "                    False, False],\n",
       "        fill_value='?',\n",
       "             dtype=object),\n",
       " 'param_bootstrap': masked_array(data=[--, --, --, --, --, --, --, --, --, --, --, --, False,\n",
       "                    False, False, False, False, False],\n",
       "              mask=[ True,  True,  True,  True,  True,  True,  True,  True,\n",
       "                     True,  True,  True,  True, False, False, False, False,\n",
       "                    False, False],\n",
       "        fill_value='?',\n",
       "             dtype=object),\n",
       " 'params': [{'max_features': 2, 'n_estimators': 3},\n",
       "  {'max_features': 2, 'n_estimators': 10},\n",
       "  {'max_features': 2, 'n_estimators': 30},\n",
       "  {'max_features': 4, 'n_estimators': 3},\n",
       "  {'max_features': 4, 'n_estimators': 10},\n",
       "  {'max_features': 4, 'n_estimators': 30},\n",
       "  {'max_features': 6, 'n_estimators': 3},\n",
       "  {'max_features': 6, 'n_estimators': 10},\n",
       "  {'max_features': 6, 'n_estimators': 30},\n",
       "  {'max_features': 8, 'n_estimators': 3},\n",
       "  {'max_features': 8, 'n_estimators': 10},\n",
       "  {'max_features': 8, 'n_estimators': 30},\n",
       "  {'bootstrap': False, 'max_features': 2, 'n_estimators': 3},\n",
       "  {'bootstrap': False, 'max_features': 2, 'n_estimators': 10},\n",
       "  {'bootstrap': False, 'max_features': 3, 'n_estimators': 3},\n",
       "  {'bootstrap': False, 'max_features': 3, 'n_estimators': 10},\n",
       "  {'bootstrap': False, 'max_features': 4, 'n_estimators': 3},\n",
       "  {'bootstrap': False, 'max_features': 4, 'n_estimators': 10}],\n",
       " 'split0_test_score': array([-10.94895833,  -7.11156562,  -6.70222639,  -9.10763889,\n",
       "         -4.05684062,  -4.82547465,  -7.09864583,  -4.88694062,\n",
       "         -4.64364236,  -7.88625   ,  -5.64006563,  -4.59359271,\n",
       "        -13.86881944,  -6.5362875 ,  -5.78510417,  -7.69274375,\n",
       "         -7.29232639,  -6.68846875]),\n",
       " 'split1_test_score': array([ -9.8353125 ,  -6.3903125 ,  -7.66284757,  -8.7103125 ,\n",
       "         -7.57464687,  -7.58869444, -10.10989583,  -7.12665625,\n",
       "         -5.83336667,  -9.17743056,  -9.83754063,  -5.88981597,\n",
       "        -12.20100694,  -9.26280937,  -8.5525    ,  -5.8664375 ,\n",
       "         -9.67434028,  -6.47887187]),\n",
       " 'split2_test_score': array([-12.5875    , -10.45664688,  -9.71672778,  -9.32822917,\n",
       "         -8.75056563,  -7.9651934 , -12.01291667,  -8.08895   ,\n",
       "         -7.85925069, -14.77756944,  -8.50495313,  -7.02309618,\n",
       "         -7.19100694,  -7.51301563, -10.40847222,  -6.95572187,\n",
       "        -11.384375  ,  -6.160775  ]),\n",
       " 'split3_test_score': array([ -8.87642361,  -9.40860312,  -8.15029549, -13.83559028,\n",
       "         -8.10540625,  -6.85002292, -12.35072917,  -6.81875937,\n",
       "         -5.87804167,  -9.89902778,  -5.21671562,  -5.93714549,\n",
       "        -12.69270833,  -7.6348625 , -12.54975694,  -7.32712812,\n",
       "         -7.78847222,  -6.85552812]),\n",
       " 'split4_test_score': array([-10.74888889,  -8.93514375,  -6.36583437,  -8.24315972,\n",
       "         -3.793675  ,  -5.27089653,  -7.91729167,  -5.77693437,\n",
       "         -4.16841493,  -3.88777778,  -5.02129687,  -4.83334062,\n",
       "         -5.35541667,  -7.35995   ,  -3.80993056,  -6.24270625,\n",
       "         -7.24107639,  -4.68134687]),\n",
       " 'split5_test_score': array([-12.52145833, -11.4384375 ,  -8.00317257,  -9.15732639,\n",
       "         -7.92781875,  -8.15505035,  -9.08222222,  -8.00134375,\n",
       "         -6.67386771, -13.09152778,  -6.54597188,  -6.62700556,\n",
       "         -9.49746528,  -6.83337188,  -8.08385417, -10.23624688,\n",
       "         -7.55388889,  -7.92709062]),\n",
       " 'split6_test_score': array([-16.37878472, -12.97572813, -13.82615868, -12.19027778,\n",
       "        -11.16340625,  -9.34311632, -11.54875   , -10.50704375,\n",
       "         -9.97261146, -12.23225694,  -8.70652187,  -7.88004271,\n",
       "        -13.83552083, -10.41986562, -11.15965278,  -9.452825  ,\n",
       "         -9.02159722, -10.16905312]),\n",
       " 'split7_test_score': array([ -9.03767361,  -3.54462812,  -3.24802153,  -8.61524306,\n",
       "         -4.97809688,  -5.30192188, -12.56871528,  -5.96684062,\n",
       "         -6.08999201,  -9.57777778,  -4.96217813,  -6.48998056,\n",
       "        -10.38291667,  -3.11045312, -11.5196875 ,  -4.22225313,\n",
       "         -9.33222222,  -5.92846563]),\n",
       " 'split8_test_score': array([-19.65433692, -14.87194516, -17.08306918, -16.27569892,\n",
       "        -19.09172581, -16.54769247, -19.34501792, -17.28101935,\n",
       "        -16.91702007, -24.50523297, -15.79134516, -16.65663871,\n",
       "        -14.88756272, -16.6197871 , -15.62057348, -17.48912581,\n",
       "        -20.33114695, -16.83787419]),\n",
       " 'split9_test_score': array([-6.07630824, -9.34655806, -5.44845914, -6.77584229, -6.38315806,\n",
       "        -5.07749104, -9.0621147 , -3.85552581, -3.69093226, -6.55648746,\n",
       "        -4.32423226, -4.20962043, -6.55229391, -6.70082581, -6.07942652,\n",
       "        -6.34304839, -7.60741935, -4.86375484]),\n",
       " 'mean_test_score': array([-11.66656452,  -9.44795689,  -8.62068127, -10.2239319 ,\n",
       "         -8.18253401,  -7.6925554 , -11.10962993,  -7.83100139,\n",
       "         -7.17271398, -11.15913385,  -7.45508212,  -7.01402789,\n",
       "        -10.64647177,  -8.19912285,  -9.35689583,  -8.18282367,\n",
       "         -9.72268649,  -7.6591229 ]),\n",
       " 'std_test_score': array([3.71814447, 3.11088892, 3.86165271, 2.78230518, 4.22431865,\n",
       "        3.29825649, 3.28756463, 3.60896826, 3.68372423, 5.37477089,\n",
       "        3.30013444, 3.3919987 , 3.21296663, 3.33517329, 3.39112732,\n",
       "        3.50878147, 3.75408084, 3.39887352]),\n",
       " 'rank_test_score': array([18, 12, 10, 14,  7,  5, 16,  6,  2, 17,  3,  1, 15,  9, 11,  8, 13,\n",
       "         4]),\n",
       " 'split0_train_score': array([-4.44066822e+00, -2.05415455e+00, -1.35623796e+00, -2.66636364e+00,\n",
       "        -1.45472413e+00, -1.26760633e+00, -2.75982906e+00, -1.43658042e+00,\n",
       "        -1.31061876e+00, -2.91163170e+00, -1.45180070e+00, -1.29493566e+00,\n",
       "        -8.38509494e-31, -1.92307692e-04, -8.38509494e-31, -6.35501932e-30,\n",
       "        -8.38509494e-31, -6.35501932e-30]),\n",
       " 'split1_train_score': array([-2.69151127e+00, -1.35817063e+00, -1.22249258e+00, -2.29845377e+00,\n",
       "        -1.75963462e+00, -1.09629320e+00, -1.71477467e+00, -1.59878846e+00,\n",
       "        -1.17239926e+00, -2.29023310e+00, -1.46425524e+00, -1.09412148e+00,\n",
       "        -7.50245336e-31, -6.99300699e-05, -7.50245336e-31, -1.39860140e-04,\n",
       "        -7.50245336e-31, -5.86956646e-30]),\n",
       " 'split2_train_score': array([-3.50465035e+00, -1.54918916e+00, -1.21335707e+00, -2.38120824e+00,\n",
       "        -1.42025070e+00, -1.11046371e+00, -2.24090909e+00, -1.53959685e+00,\n",
       "        -1.13416639e+00, -2.13159674e+00, -1.76550350e+00, -1.15772113e+00,\n",
       "        -3.88500389e-03, -6.99300699e-05, -8.38509494e-31, -6.99300699e-05,\n",
       "        -8.38509494e-31, -5.42824567e-30]),\n",
       " 'split3_train_score': array([-2.29085082e+00, -1.70331329e+00, -1.25864938e+00, -3.11581197e+00,\n",
       "        -1.82379860e+00, -1.37398306e+00, -2.64713675e+00, -1.61484580e+00,\n",
       "        -1.38506313e+00, -2.29074592e+00, -1.27702133e+00, -1.12597863e+00,\n",
       "        -8.38509494e-31, -6.04609477e-30, -8.38509494e-31, -2.37762238e-05,\n",
       "        -8.38509494e-31, -6.04609477e-30]),\n",
       " 'split4_train_score': array([-3.28449495e+00, -1.87803601e+00, -1.20238450e+00, -2.91227661e+00,\n",
       "        -1.59731503e+00, -1.18699674e+00, -2.38680653e+00, -1.95123322e+00,\n",
       "        -1.13061061e+00, -2.09525253e+00, -1.46888392e+00, -1.03316492e+00,\n",
       "        -1.94250194e-04, -6.99300699e-05, -7.94377415e-31, -6.57567971e-30,\n",
       "        -7.94377415e-31, -6.57567971e-30]),\n",
       " 'split5_train_score': array([-1.86329060e+00, -1.86798427e+00, -1.36020148e+00, -3.03716783e+00,\n",
       "        -2.04670909e+00, -1.08983450e+00, -2.09766900e+00, -1.66003462e+00,\n",
       "        -1.12907242e+00, -2.40952991e+00, -1.64315490e+00, -1.11805326e+00,\n",
       "        -1.55400155e-03, -6.99300699e-05, -7.94377415e-31, -6.04609477e-30,\n",
       "        -7.94377415e-31, -6.04609477e-30]),\n",
       " 'split6_train_score': array([-2.63822455e+00, -1.65167098e+00, -1.15899810e+00, -2.92167444e+00,\n",
       "        -1.21502622e+00, -1.07481573e+00, -1.93551671e+00, -1.26802657e+00,\n",
       "        -1.09525229e+00, -2.61907925e+00, -1.23754406e+00, -1.10991232e+00,\n",
       "        -7.77000777e-04, -5.86956646e-30, -8.38509494e-31, -5.86956646e-30,\n",
       "        -8.38509494e-31, -5.86956646e-30]),\n",
       " 'split7_train_score': array([-2.58338772e+00, -1.85373287e+00, -1.34657700e+00, -2.32546232e+00,\n",
       "        -1.51061713e+00, -1.20470979e+00, -2.89954934e+00, -1.51388252e+00,\n",
       "        -1.02329087e+00, -2.27454157e+00, -1.19939336e+00, -1.24251772e+00,\n",
       "        -7.94377415e-31, -1.39860140e-04, -7.94377415e-31, -1.39860140e-04,\n",
       "        -7.94377415e-31, -3.27972028e-04]),\n",
       " 'split8_train_score': array([-2.97634921e+00, -1.39849164e+00, -1.20392396e+00, -2.88736740e+00,\n",
       "        -1.36637143e+00, -9.77321254e-01, -1.84694928e+00, -1.29310801e+00,\n",
       "        -1.04235285e+00, -2.30368177e+00, -1.23350383e+00, -8.37452768e-01,\n",
       "        -7.47631241e-31, -1.39372822e-04, -7.47631241e-31, -8.43205575e-05,\n",
       "        -7.47631241e-31, -5.93707162e-30]),\n",
       " 'split9_train_score': array([-2.37120790e+00, -2.02656551e+00, -1.48092238e+00, -1.98933024e+00,\n",
       "        -1.48229373e+00, -1.11228153e+00, -2.38847077e+00, -1.37890767e+00,\n",
       "        -1.19186252e+00, -2.57272938e+00, -1.44586864e+00, -1.19017062e+00,\n",
       "        -7.03652933e-31, -1.56794425e-04, -7.03652933e-31, -1.39372822e-04,\n",
       "        -7.03652933e-31, -6.96864111e-05]),\n",
       " 'mean_train_score': array([-2.86446356e+00, -1.73413089e+00, -1.28037444e+00, -2.65351164e+00,\n",
       "        -1.56767407e+00, -1.14943059e+00, -2.29176112e+00, -1.52550041e+00,\n",
       "        -1.16146891e+00, -2.38990219e+00, -1.41869295e+00, -1.12040285e+00,\n",
       "        -6.41025641e-04, -9.08055359e-05, -7.93869973e-31, -5.97119953e-05,\n",
       "        -7.93869973e-31, -3.97658439e-05]),\n",
       " 'std_train_score': array([6.94117084e-01, 2.31692861e-01, 9.57615903e-02, 3.61054911e-01,\n",
       "        2.32963872e-01, 1.06451430e-01, 3.78300283e-01, 1.90454850e-01,\n",
       "        1.06628768e-01, 2.35070819e-01, 1.76738085e-01, 1.18381804e-01,\n",
       "        1.18492618e-03, 6.13651267e-05, 4.48907154e-32, 5.95455767e-05,\n",
       "        4.48907154e-32, 9.82896859e-05])}"
      ]
     },
     "execution_count": 25,
     "metadata": {},
     "output_type": "execute_result"
    }
   ],
   "source": [
    "cv_scores = grid_search.cv_results_\n",
    "\n",
    "cv_scores"
   ]
  },
  {
   "cell_type": "code",
   "execution_count": 26,
   "metadata": {},
   "outputs": [
    {
     "name": "stdout",
     "output_type": "stream",
     "text": [
      "3.415635301979565 {'max_features': 2, 'n_estimators': 3}\n",
      "3.0737528991577454 {'max_features': 2, 'n_estimators': 10}\n",
      "2.9360996694664876 {'max_features': 2, 'n_estimators': 30}\n",
      "3.197488373652291 {'max_features': 4, 'n_estimators': 3}\n",
      "2.8605128931883477 {'max_features': 4, 'n_estimators': 10}\n",
      "2.773545636881714 {'max_features': 4, 'n_estimators': 30}\n",
      "3.333111148509064 {'max_features': 6, 'n_estimators': 3}\n",
      "2.7983926442029237 {'max_features': 6, 'n_estimators': 10}\n",
      "2.678192297609511 {'max_features': 6, 'n_estimators': 30}\n",
      "3.340528977357674 {'max_features': 8, 'n_estimators': 3}\n",
      "2.730399625867152 {'max_features': 8, 'n_estimators': 10}\n",
      "2.64840100686153 {'max_features': 8, 'n_estimators': 30}\n",
      "3.262893160094818 {'bootstrap': False, 'max_features': 2, 'n_estimators': 3}\n",
      "2.863411052018655 {'bootstrap': False, 'max_features': 2, 'n_estimators': 10}\n",
      "3.0589043517791352 {'bootstrap': False, 'max_features': 3, 'n_estimators': 3}\n",
      "2.860563523041367 {'bootstrap': False, 'max_features': 3, 'n_estimators': 10}\n",
      "3.1181222702029316 {'bootstrap': False, 'max_features': 4, 'n_estimators': 3}\n",
      "2.7675120421103507 {'bootstrap': False, 'max_features': 4, 'n_estimators': 10}\n"
     ]
    }
   ],
   "source": [
    "for mean_score, params in zip(cv_scores['mean_test_score'], cv_scores['params']):\n",
    "    print(np.sqrt(-mean_score), params)"
   ]
  },
  {
   "cell_type": "markdown",
   "metadata": {},
   "source": [
    "## Checking Feature importance"
   ]
  },
  {
   "cell_type": "code",
   "execution_count": 27,
   "metadata": {},
   "outputs": [
    {
     "data": {
      "text/plain": [
       "array([0.08087611, 0.35268113, 0.10792442, 0.25379498, 0.01155216,\n",
       "       0.13044228, 0.02391978, 0.03373684, 0.00159646, 0.00218224,\n",
       "       0.0012936 ])"
      ]
     },
     "execution_count": 27,
     "metadata": {},
     "output_type": "execute_result"
    }
   ],
   "source": [
    "# feature importances \n",
    "\n",
    "feature_importance = grid_search.best_estimator_.feature_importances_\n",
    "feature_importance"
   ]
  },
  {
   "cell_type": "code",
   "execution_count": 28,
   "metadata": {},
   "outputs": [
    {
     "data": {
      "text/plain": [
       "[('acc_on_power', 0.08087610847178564),\n",
       " ('acc_on_cyl', 0.35268112604875496),\n",
       " ('Weight', 0.13044227803054828),\n",
       " ('Model Year', 0.033736838693057734),\n",
       " ('Horsepower', 0.01155215657446422),\n",
       " ('Displacement', 0.2537949848022582),\n",
       " ('Cylinders', 0.10792442429755222),\n",
       " ('Acceleration', 0.02391977825045578)]"
      ]
     },
     "execution_count": 28,
     "metadata": {},
     "output_type": "execute_result"
    }
   ],
   "source": [
    "extra_attrs = [\"acc_on_power\", \"acc_on_cyl\"]\n",
    "numerics = ['float64', 'int64']\n",
    "numeric_attrs = list(data.select_dtypes(include = numerics))\n",
    "\n",
    "attr = extra_attrs + numeric_attrs\n",
    "sorted(zip(attr, feature_importance), reverse = True)"
   ]
  },
  {
   "cell_type": "markdown",
   "metadata": {},
   "source": [
    "## Evaluating the entire system on Test data"
   ]
  },
  {
   "cell_type": "code",
   "execution_count": 29,
   "metadata": {},
   "outputs": [
    {
     "data": {
      "text/plain": [
       "2.92918790888457"
      ]
     },
     "execution_count": 29,
     "metadata": {},
     "output_type": "execute_result"
    }
   ],
   "source": [
    "final_model = grid_search.best_estimator_\n",
    "\n",
    "X_test = strat_test_set.drop([\"MPG\"], axis = 1)\n",
    "y_test = strat_test_set[\"MPG\"].copy()\n",
    "\n",
    "X_test_preprocessed = preprocess_origin_col(X_test)\n",
    "X_test_prepared = pipeline_transformer(X_test_preprocessed)\n",
    "\n",
    "final_prediction = final_model.predict(X_test_prepared)\n",
    "final_mse = mean_squared_error(y_test, final_prediction)\n",
    "final_rmse = np.sqrt(final_mse)\n",
    "final_rmse"
   ]
  },
  {
   "cell_type": "markdown",
   "metadata": {},
   "source": [
    "## Creating a fuction to cover entire process"
   ]
  },
  {
   "cell_type": "code",
   "execution_count": 30,
   "metadata": {},
   "outputs": [],
   "source": [
    "def predict_mpg(config, model):\n",
    "    \n",
    "    if type(config) == dict:\n",
    "        df = pd.DataFrame(config)\n",
    "    else:\n",
    "        df = config\n",
    "        \n",
    "        \n",
    "    preproc_df = preprocess_origin_col(df)\n",
    "    prepared_df = pipeline_transformer(preproc_df)\n",
    "    y_pred = model.predict(prepared_df)\n",
    "    return y_pred"
   ]
  },
  {
   "cell_type": "code",
   "execution_count": 31,
   "metadata": {},
   "outputs": [
    {
     "data": {
      "text/plain": [
       "array([33.42, 16.52, 21.06])"
      ]
     },
     "execution_count": 31,
     "metadata": {},
     "output_type": "execute_result"
    }
   ],
   "source": [
    "## Checkking it on random sample\n",
    "\n",
    "vehicle_config = {\n",
    "    'Cylinders' : [4, 6, 8],\n",
    "    'Displacement' : [155.0, 160.0, 165.5],\n",
    "    'Horsepower' : [93.0, 130.0, 98.0],\n",
    "    'Weight' : [2500.0, 3150.0, 2600.0],\n",
    "    'Acceleration' : [15.0, 14.0, 16.0],\n",
    "    'Model Year' : [81, 80, 78],\n",
    "    'Origin' : [3, 2, 1]\n",
    "}\n",
    "\n",
    "predict_mpg(vehicle_config, final_model)"
   ]
  },
  {
   "cell_type": "markdown",
   "metadata": {},
   "source": [
    "## Save the Model"
   ]
  },
  {
   "cell_type": "code",
   "execution_count": 32,
   "metadata": {},
   "outputs": [],
   "source": [
    "import pickle\n",
    "\n",
    "with open('model_bin', \"wb\") as f_out:\n",
    "    pickle.dump(final_model, f_out)\n",
    "    f_out.close()"
   ]
  },
  {
   "cell_type": "code",
   "execution_count": 49,
   "metadata": {},
   "outputs": [
    {
     "data": {
      "text/plain": [
       "array([33.42, 16.52, 21.06])"
      ]
     },
     "execution_count": 49,
     "metadata": {},
     "output_type": "execute_result"
    }
   ],
   "source": [
    "#Loading the model from the saved file\n",
    "\n",
    "with open(\"model_bin\", \"rb\") as f_in:\n",
    "    model = pickle.load(f_in)\n",
    "    \n",
    "predict_mpg(vehicle_config, model)"
   ]
  },
  {
   "cell_type": "code",
   "execution_count": 55,
   "metadata": {},
   "outputs": [
    {
     "data": {
      "text/plain": [
       "'{\\n  \"mpg_predictions\": [\\n    33.42000000000001, \\n    16.519999999999996, \\n    21.06\\n  ]\\n}'"
      ]
     },
     "execution_count": 55,
     "metadata": {},
     "output_type": "execute_result"
    }
   ],
   "source": [
    "import requests\n",
    "\n",
    "url = 'http://127.0.0.1:5000/'\n",
    "r = requests.post(url, json = vehicle_config)\n",
    "r.text.strip()"
   ]
  },
  {
   "cell_type": "code",
   "execution_count": null,
   "metadata": {},
   "outputs": [],
   "source": []
  },
  {
   "cell_type": "code",
   "execution_count": null,
   "metadata": {},
   "outputs": [],
   "source": []
  }
 ],
 "metadata": {
  "kernelspec": {
   "display_name": "Python 3",
   "language": "python",
   "name": "python3"
  },
  "language_info": {
   "codemirror_mode": {
    "name": "ipython",
    "version": 3
   },
   "file_extension": ".py",
   "mimetype": "text/x-python",
   "name": "python",
   "nbconvert_exporter": "python",
   "pygments_lexer": "ipython3",
   "version": "3.8.5"
  }
 },
 "nbformat": 4,
 "nbformat_minor": 4
}
